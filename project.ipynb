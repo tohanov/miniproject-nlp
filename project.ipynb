{
 "cells": [
  {
   "cell_type": "markdown",
   "metadata": {},
   "source": [
    "# Mini-Project in NLP"
   ]
  },
  {
   "cell_type": "code",
   "execution_count": 491,
   "metadata": {},
   "outputs": [],
   "source": [
    "import sys\n",
    "import os\n",
    "import zipfile\n",
    "import re\n",
    "\n",
    "import requests\n",
    "from bs4 import BeautifulSoup\n",
    "\n",
    "import pandas as pd\n",
    "from IPython.display import display, HTML\n",
    "from pprint import pprint\n",
    "\n",
    "\n",
    "from lyricsgenius import Genius\n",
    "from credentials import CLIENT_ACCESS_TOKEN\n",
    "\n",
    "import seaborn\n",
    "import matplotlib as plt"
   ]
  },
  {
   "cell_type": "code",
   "execution_count": 492,
   "metadata": {},
   "outputs": [],
   "source": [
    "# loading billboard top 100 years 1958-2021\n",
    "# original dataset from: https://www.kaggle.com/datasets/dhruvildave/billboard-the-hot-100-songs/data\n",
    "\n",
    "data_directory = \"data\"\n",
    "csv_file_name = \"charts.csv.zip\"\n",
    "lyrics_csv_file_name = f\"lyrics_charts.csv.xz\"\n",
    "\n",
    "csv_file_path = os.path.join(data_directory, csv_file_name)\n",
    "lyrics_csv_file_path = os.path.join(data_directory, lyrics_csv_file_name)\n",
    "\n",
    "GENIUS_API_GATEWAY = Genius(\n",
    "    access_token=CLIENT_ACCESS_TOKEN,\n",
    "    \n",
    "    verbose=False,\n",
    "    retries=10,\n",
    "    skip_non_songs=True,\n",
    "    \n",
    "    remove_section_headers=True,\n",
    ")"
   ]
  },
  {
   "cell_type": "code",
   "execution_count": 493,
   "metadata": {},
   "outputs": [],
   "source": [
    "# if not os.path.isfile(lyrics_csv_file_path) and not os.path.isfile(csv_file_path):\n",
    "#     print(\"extracted CSV not found\")\n",
    "    \n",
    "#     with zipfile.ZipFile(zip_file_path, 'r') as zip_ref:\n",
    "#         zip_ref.extractall(data_directory)"
   ]
  },
  {
   "cell_type": "code",
   "execution_count": 494,
   "metadata": {},
   "outputs": [],
   "source": [
    "def covert_date_column(dataframe):\n",
    "    print(f'{dataframe[\"date\"].dtype = }')\n",
    "\n",
    "    dataframe[\"date\"] = dataframe[ [\"date\"] ].apply(pd.to_datetime, format=\"%Y-%m-%d\")\n",
    "    print(f'{dataframe[\"date\"].dtype = }')"
   ]
  },
  {
   "cell_type": "code",
   "execution_count": 495,
   "metadata": {},
   "outputs": [
    {
     "name": "stdout",
     "output_type": "stream",
     "text": [
      "dataframe[\"date\"].dtype = dtype('O')\n",
      "dataframe[\"date\"].dtype = dtype('<M8[ns]')\n"
     ]
    }
   ],
   "source": [
    "# if not os.path.isfile(lyrics_csv_file_path):\n",
    "charts = pd.read_csv(\n",
    "    csv_file_path, \n",
    "    compression=\"zip\", \n",
    "    # converters={\"date\": lambda x: pd.to_datetime(x, format=\"%Y-%m-%d\")}\n",
    ")\n",
    "\n",
    "covert_date_column(charts)"
   ]
  },
  {
   "cell_type": "code",
   "execution_count": 496,
   "metadata": {},
   "outputs": [],
   "source": [
    "if not os.path.isfile(lyrics_csv_file_path):\n",
    "    charts.shape"
   ]
  },
  {
   "cell_type": "code",
   "execution_count": 497,
   "metadata": {},
   "outputs": [],
   "source": [
    "def print_dataframe(dataframe):\n",
    "    display(HTML(\n",
    "        dataframe\n",
    "        .to_html())\n",
    "    )"
   ]
  },
  {
   "cell_type": "code",
   "execution_count": 498,
   "metadata": {},
   "outputs": [
    {
     "data": {
      "text/html": [
       "<table border=\"1\" class=\"dataframe\">\n",
       "  <thead>\n",
       "    <tr style=\"text-align: right;\">\n",
       "      <th></th>\n",
       "      <th>date</th>\n",
       "      <th>rank</th>\n",
       "      <th>song</th>\n",
       "      <th>artist</th>\n",
       "      <th>last-week</th>\n",
       "      <th>peak-rank</th>\n",
       "      <th>weeks-on-board</th>\n",
       "    </tr>\n",
       "  </thead>\n",
       "  <tbody>\n",
       "    <tr>\n",
       "      <th>0</th>\n",
       "      <td>2021-11-06</td>\n",
       "      <td>1</td>\n",
       "      <td>Easy On Me</td>\n",
       "      <td>Adele</td>\n",
       "      <td>1.0</td>\n",
       "      <td>1</td>\n",
       "      <td>3</td>\n",
       "    </tr>\n",
       "    <tr>\n",
       "      <th>1</th>\n",
       "      <td>2021-11-06</td>\n",
       "      <td>2</td>\n",
       "      <td>Stay</td>\n",
       "      <td>The Kid LAROI &amp; Justin Bieber</td>\n",
       "      <td>2.0</td>\n",
       "      <td>1</td>\n",
       "      <td>16</td>\n",
       "    </tr>\n",
       "    <tr>\n",
       "      <th>2</th>\n",
       "      <td>2021-11-06</td>\n",
       "      <td>3</td>\n",
       "      <td>Industry Baby</td>\n",
       "      <td>Lil Nas X &amp; Jack Harlow</td>\n",
       "      <td>3.0</td>\n",
       "      <td>1</td>\n",
       "      <td>14</td>\n",
       "    </tr>\n",
       "  </tbody>\n",
       "</table>"
      ],
      "text/plain": [
       "<IPython.core.display.HTML object>"
      ]
     },
     "metadata": {},
     "output_type": "display_data"
    },
    {
     "data": {
      "text/html": [
       "<table border=\"1\" class=\"dataframe\">\n",
       "  <thead>\n",
       "    <tr style=\"text-align: right;\">\n",
       "      <th></th>\n",
       "      <th>date</th>\n",
       "      <th>rank</th>\n",
       "      <th>song</th>\n",
       "      <th>artist</th>\n",
       "      <th>last-week</th>\n",
       "      <th>peak-rank</th>\n",
       "      <th>weeks-on-board</th>\n",
       "    </tr>\n",
       "  </thead>\n",
       "  <tbody>\n",
       "    <tr>\n",
       "      <th>330084</th>\n",
       "      <td>1958-08-04</td>\n",
       "      <td>98</td>\n",
       "      <td>Little Serenade</td>\n",
       "      <td>The Ames Brothers</td>\n",
       "      <td>NaN</td>\n",
       "      <td>98</td>\n",
       "      <td>1</td>\n",
       "    </tr>\n",
       "    <tr>\n",
       "      <th>330085</th>\n",
       "      <td>1958-08-04</td>\n",
       "      <td>99</td>\n",
       "      <td>I'll Get By (As Long As I Have You)</td>\n",
       "      <td>Billy Williams</td>\n",
       "      <td>NaN</td>\n",
       "      <td>99</td>\n",
       "      <td>1</td>\n",
       "    </tr>\n",
       "    <tr>\n",
       "      <th>330086</th>\n",
       "      <td>1958-08-04</td>\n",
       "      <td>100</td>\n",
       "      <td>Judy</td>\n",
       "      <td>Frankie Vaughan</td>\n",
       "      <td>NaN</td>\n",
       "      <td>100</td>\n",
       "      <td>1</td>\n",
       "    </tr>\n",
       "  </tbody>\n",
       "</table>"
      ],
      "text/plain": [
       "<IPython.core.display.HTML object>"
      ]
     },
     "metadata": {},
     "output_type": "display_data"
    }
   ],
   "source": [
    "print_dataframe(charts.head(3))\n",
    "print_dataframe(charts.tail(3))"
   ]
  },
  {
   "cell_type": "code",
   "execution_count": 499,
   "metadata": {},
   "outputs": [],
   "source": [
    "charts = charts[[\"date\", \"song\", \"artist\"]]"
   ]
  },
  {
   "cell_type": "code",
   "execution_count": 500,
   "metadata": {},
   "outputs": [],
   "source": [
    "def sanitize_lyrics(lyrics):\n",
    "    splitting_pattern = \\\n",
    "        r\"[\\d,]*Embed$\" \\\n",
    "        r\"|\\{.*?\\}\"\n",
    "        # r\"|\\[.*?\\]\"\n",
    "    lyrics = ''.join(re.split(splitting_pattern, lyrics))\n",
    "    \n",
    "    lyrics = lyrics.split(\"Lyrics\", maxsplit=1)[1]\n",
    "    lyrics = ''.join(lyrics.rsplit(\"You might also like\", maxsplit=1))\n",
    "    \n",
    "    lyrics = re.sub(r\"(\\n\\s*){2,}\\n\", r\"\\n\\n\", lyrics)\n",
    "    lyrics = lyrics.strip()\n",
    "    \n",
    "    return lyrics\n",
    "    \n",
    "    \n",
    "def download_lyrics(artist, title):\n",
    "    song = GENIUS_API_GATEWAY.search_song(\n",
    "        artist=artist,\n",
    "        title=title,\n",
    "        get_full_info=False,\n",
    "    )\n",
    "    return song.lyrics if song is not None else None\n",
    "\n",
    "\n",
    "def lyrics_from_row(row):\n",
    "   return sanitize_lyrics(\n",
    "       download_lyrics(\n",
    "           artist=row[\"artist\"], \n",
    "           title=row[\"song\"]\n",
    "        )\n",
    "    )"
   ]
  },
  {
   "cell_type": "code",
   "execution_count": 501,
   "metadata": {},
   "outputs": [],
   "source": [
    "def get_n_lines(num_lines, text):\n",
    "    line_separator = \"\\n\"\n",
    "    \n",
    "    return line_separator.join(\n",
    "        text.split(line_separator)\n",
    "        [ : num_lines]\n",
    "    )"
   ]
  },
  {
   "cell_type": "code",
   "execution_count": 502,
   "metadata": {},
   "outputs": [],
   "source": [
    "relevant_columns = [\"date\", \"artist\", \"song\",]"
   ]
  },
  {
   "cell_type": "code",
   "execution_count": 503,
   "metadata": {},
   "outputs": [],
   "source": [
    "# example of downloading lyrics for a single song\n",
    "if not os.path.isfile(lyrics_csv_file_path):\n",
    "\n",
    "    # example_song = charts.loc[:, relevant_columns].iloc[-1: , :]\n",
    "    example_song = charts.loc[ : , relevant_columns].iloc[1:2 , :]\n",
    "    print_dataframe(example_song)\n",
    "\n",
    "    raw_lyrics = download_lyrics(example_song.iloc[0].artist, example_song.iloc[0].song)\n",
    "    num_lines = 10\n",
    "    print(\"=\"*30)\n",
    "    print(\"Raw lyrics:\")\n",
    "    print(\"-\"*30)\n",
    "    print(get_n_lines(num_lines, raw_lyrics))\n",
    "    print(\"...\")\n",
    "    print()\n",
    "\n",
    "    print(\"=\"*30)\n",
    "    print(\"Sanitized lyrics:\")\n",
    "    print(\"-\"*30)\n",
    "    sanitized_lyrics = sanitize_lyrics(raw_lyrics)\n",
    "    print(get_n_lines(num_lines, sanitized_lyrics))\n",
    "    print(\"...\")"
   ]
  },
  {
   "cell_type": "code",
   "execution_count": 504,
   "metadata": {},
   "outputs": [
    {
     "name": "stdout",
     "output_type": "stream",
     "text": [
      "dataframe[\"date\"].dtype = dtype('O')\n",
      "dataframe[\"date\"].dtype = dtype('<M8[ns]')\n"
     ]
    },
    {
     "data": {
      "text/html": [
       "<table border=\"1\" class=\"dataframe\">\n",
       "  <thead>\n",
       "    <tr style=\"text-align: right;\">\n",
       "      <th></th>\n",
       "      <th>date</th>\n",
       "      <th>artist</th>\n",
       "      <th>song</th>\n",
       "      <th>lyrics</th>\n",
       "    </tr>\n",
       "  </thead>\n",
       "  <tbody>\n",
       "    <tr>\n",
       "      <th>0</th>\n",
       "      <td>2021-11-06</td>\n",
       "      <td>Adele</td>\n",
       "      <td>Easy On Me</td>\n",
       "      <td>There ain't no gold in this river\\nThat I've been washin' my hands in forever\\nI know there is hope in these waters\\nBut I can't bring myself to swim\\nWhen I am drowning in this silence\\nBaby, let me in\\nGo easy on me, baby\\nI was still a child\\nDidn't get the chance to\\nFeel the world around me\\nI had no time to choose what I chose to do\\nSo go easy on me\\n\\nThere ain't no room for things to change\\nWhen we are both so deeply stuck in our ways\\nYou can't deny how hard I've tried\\nI changed who I was to put you both first\\nBut now I give up\\nGo easy on mе, baby\\nI was still a child\\nDidn't get the chance to\\nFeel thе world around me\\nHad no time to choose what I chose to do\\nSo go easy on me\\nSee Adele LiveGet tickets as low as $126\\nI had good intentions\\nAnd the highest hopes\\nBut I know right now\\nIt probably doesn't even show\\nGo easy on me, baby\\nI was still a child\\nI didn't get the chance to\\nFeel the world around me\\nI had no time to choose what I chose to do\\nSo go easy on me</td>\n",
       "    </tr>\n",
       "    <tr>\n",
       "      <th>1</th>\n",
       "      <td>2021-11-06</td>\n",
       "      <td>The Kid LAROI &amp; Justin Bieber</td>\n",
       "      <td>Stay</td>\n",
       "      <td>I do the same thing I told you that I never would\\nI told you I'd change, even when I knew I never could\\nI know that I can’t find nobody else as good as you\\nI need you to stay, need you to stay, hey (Oh)\\n\\nI get drunk, wake up, I'm wasted still\\nI realize the time that I wasted here\\nI feel like you can't feel the way I feel\\nOh, I’ll be fucked up if you can't be right here\\n\\nOh, ooh-woah (Oh, ooh-woah, ooh-woah)\\nOh, ooh-woah (Oh, ooh-woah, ooh-woah)\\nOh, ooh-woah (Oh, ooh-woah, ooh-woah)\\nOh, I'll be fucked up if you can't be right here\\n\\nI do the same thing I told you that I never would\\nI told you I'd change, even when I knew I never could\\nI know that I can't find nobody else as good as you\\nI need you to stay, need you to stay, hey\\nI do the same thing I told you that I never would\\nI told you I'd change, even when I knew I never could\\nI know that I can't find nobody else as good as you\\nI need you to stay, need you to stay, hey\\n\\nWhen I’m away from you, I miss your touch (Ooh)\\nYou’re the reason I believe in love\\nIt's been difficult for me to trust (Ooh)\\nAnd I’m afraid that I'ma fuck it up\\nAin't no way that I can leave you stranded\\n'Cause you ain’t ever left me empty-handed\\nAnd you know that I know that I can't live without you\\nSo, baby, stay\\n\\nOh, ooh-woah (Oh, ooh-woah, ooh-woah)\\nOh, ooh-woah (Oh, ooh-woah, ooh-woah)\\nOh, ooh-woah (Oh, ooh-woah, ooh-woah)\\nI'll be fucked up if you can't be right here\\n\\nI do the same thing I told you that I never would\\nI told you I'd change, even when I knew I never could\\nI know that I can't find nobody else as good as you\\nI need you to stay, need you to stay, hey\\nI do the same thing I told you that I never would\\nI told you I'd change, even when I knew I never could\\nI know that I can't find nobody else as good as you\\nI need you to stay, need you to stay, hey\\nWoah-oh\\nI need you to stay, need you to stay, hey</td>\n",
       "    </tr>\n",
       "    <tr>\n",
       "      <th>2</th>\n",
       "      <td>2021-11-06</td>\n",
       "      <td>Lil Nas X &amp; Jack Harlow</td>\n",
       "      <td>Industry Baby</td>\n",
       "      <td>(D-D-Daytrip took it to ten, hey)\\nBaby back, ayy, couple racks, ayy\\nCouple Grammys on him, couple plaques, ayy\\nThat's a fact, ayy, throw it back, ayy\\nThrow it back, ayy\\nAnd this one is for the champions\\nI ain't lost since I began, yeah\\nFunny how you said it was the end, yeah\\nThen I went did it again, yeah\\n\\nI told you long ago on the road\\nI got what they waiting for\\nI don't run from nothing, dog\\nGet your soldiers, tell 'em I ain't layin' low\\nYou was never really rooting for me anyway\\nWhen I'm back up at the top, I wanna hear you say\\nHe don't run from nothin', dog\\nGet your soldiers, tell 'em that the break is over\\n\\nUh, need to, uh\\nNeed to get this album done\\nNeed a couple number onеs\\nNeed a plaque on every song\\nNeed mе like one with Nicki now\\nTell a rap nigga I don't see ya, hah\\nI'm a pop nigga like Bieber, hah\\nI don't fuck bitches, I'm queer, hah\\nBut these niggas bitches like Madea, yeah, yeah, yeah, ayy (Yeah)\\nOh, let's do it\\nI ain't fall off, I just ain't release my new shit\\nI blew up, now everybody tryna sue me\\nYou call me Nas, but the hood call me Doobie, yeah\\n\\nAnd this one is for the champions\\nI ain't lost since I began, yeah\\nFunny how you said it was the end, yeah\\nThen I went did it again, yeah\\n\\nI told you long ago on the road\\nI got what they waiting for (I got what they're waiting for)\\nI don't run from nothing, dog\\nGet your soldiers, tell 'em I ain't layin' low (Bitch, I ain't runnin' from nowhere)\\nYou was never really rooting for me anyway (Ooh, ooh)\\nWhen I'm back up at the top, I wanna hear you say (Ooh, ooh)\\nHe don't run from nothin', dog\\nGet your soldiers, tell 'em that the break is over (Yeah)\\n\\nMy track record so clean, they couldn't wait to just bash me\\nI must be gettin' too flashy, y'all shouldn't have let the world gas me (Woo)\\nIt's too late 'cause I'm here to stay and these girls know that I'm nasty (Mmm)\\nI sent her back to her boyfriend with my handprint on her ass cheek\\nCity talkin', we takin' notes\\nTell 'em all to keep makin' posts\\nWish he could, but he can't get close\\nOG so proud of me that he chokin' up while he makin' toasts\\nI'm the type that you can't control, said I would, then I made it so\\nI don't clear up rumors (Ayy), where's y'all sense of humor? (Ayy)\\nI'm done makin' jokes 'cause they got old like baby boomers\\nTurned my haters to consumers, I make vets feel like they juniors (Juniors)\\nSay your time is comin' soon, but just like Oklahoma (Mmm)\\nMine is comin' sooner (Mmm), I'm just a late bloomer (Mmm)\\nI didn't peak in high school, I'm still out here gettin' cuter (Woo)\\nAll these social networks and computers\\nGot these pussies walkin' 'round like they ain't losers\\nI told you long ago on the road\\nI got what they waiting for (I got what they waiting for)\\nI don't run from nothing, dog\\nGet your soldiers, tell 'em I ain't layin' low (Bitch, I ain't runnin' from nowhere)\\nYou was never really rooting for me anyway\\nWhen I'm back up at the top, I wanna hear you say\\nHe don't run from nothin', dog\\nGet your soldiers, tell 'em that the break is over\\nYeah\\nI'm the industry baby, mmm\\nI'm the industry baby\\nYeah</td>\n",
       "    </tr>\n",
       "  </tbody>\n",
       "</table>"
      ],
      "text/plain": [
       "<IPython.core.display.HTML object>"
      ]
     },
     "metadata": {},
     "output_type": "display_data"
    },
    {
     "name": "stdout",
     "output_type": "stream",
     "text": [
      "I do the same thing I told you that I never would\n",
      "I told you I'd change, even when I knew I never could\n",
      "I know that I can’t find nobody else as good as you\n",
      "I need you to stay, need you to stay, hey (Oh)\n",
      "\n",
      "I get drunk, wake up, I'm wasted still\n",
      "I realize the time that I wasted here\n",
      "I feel like you can't feel the way I feel\n",
      "Oh, I’ll be fucked up if you can't be right here\n",
      "\n",
      "Oh, ooh-woah (Oh, ooh-woah, ooh-woah)\n",
      "Oh, ooh-woah (Oh, ooh-woah, ooh-woah)\n",
      "Oh, ooh-woah (Oh, ooh-woah, ooh-woah)\n",
      "Oh, I'll be fucked up if you can't be right here\n",
      "\n",
      "I do the same thing I told you that I never would\n",
      "I told you I'd change, even when I knew I never could\n",
      "I know that I can't find nobody else as good as you\n",
      "I need you to stay, need you to stay, hey\n",
      "I do the same thing I told you that I never would\n",
      "I told you I'd change, even when I knew I never could\n",
      "I know that I can't find nobody else as good as you\n",
      "I need you to stay, need you to stay, hey\n",
      "\n",
      "When I’m away from you, I miss your touch (Ooh)\n",
      "You’re the reason I believe in love\n",
      "It's been difficult for me to trust (Ooh)\n",
      "And I’m afraid that I'ma fuck it up\n",
      "Ain't no way that I can leave you stranded\n",
      "'Cause you ain’t ever left me empty-handed\n",
      "And you know that I know that I can't live without you\n",
      "So, baby, stay\n",
      "\n",
      "Oh, ooh-woah (Oh, ooh-woah, ooh-woah)\n",
      "Oh, ooh-woah (Oh, ooh-woah, ooh-woah)\n",
      "Oh, ooh-woah (Oh, ooh-woah, ooh-woah)\n",
      "I'll be fucked up if you can't be right here\n",
      "\n",
      "I do the same thing I told you that I never would\n",
      "I told you I'd change, even when I knew I never could\n",
      "I know that I can't find nobody else as good as you\n",
      "I need you to stay, need you to stay, hey\n",
      "I do the same thing I told you that I never would\n",
      "I told you I'd change, even when I knew I never could\n",
      "I know that I can't find nobody else as good as you\n",
      "I need you to stay, need you to stay, hey\n",
      "Woah-oh\n",
      "I need you to stay, need you to stay, hey\n"
     ]
    }
   ],
   "source": [
    "# example of downloading songs for each row in the dataset's dataframe\n",
    "# TODO isolate a dataframe of wanted songs, download all needed lyrics to dataframe, and save for future use\n",
    "\n",
    "if not os.path.isfile(lyrics_csv_file_path):\n",
    "    example_songs_copy = charts.loc[:, relevant_columns].iloc[0:3 , :].copy()\n",
    "\n",
    "    example_songs_copy[\"lyrics\"] = example_songs_copy.apply(lyrics_from_row, axis=1)\n",
    "\n",
    "    example_songs_copy.to_csv(lyrics_csv_file_path, index=False, compression=\"xz\")\n",
    "else:\n",
    "    example_songs_copy = pd.read_csv(lyrics_csv_file_path, compression=\"xz\")\n",
    "    covert_date_column(example_songs_copy)\n",
    "    \n",
    "print_dataframe(example_songs_copy)\n",
    "print(example_songs_copy[\"lyrics\"].iloc[1])"
   ]
  },
  {
   "cell_type": "code",
   "execution_count": 505,
   "metadata": {},
   "outputs": [
    {
     "name": "stdout",
     "output_type": "stream",
     "text": [
      "following list_link = 'https://en.wikipedia.org/wiki/Billboard_year-end_top_30_singles_of_1950'\n"
     ]
    },
    {
     "name": "stderr",
     "output_type": "stream",
     "text": [
      "C:\\Users\\SB\\AppData\\Local\\Temp\\ipykernel_14596\\2869940313.py:33: FutureWarning: Passing literal html to 'read_html' is deprecated and will be removed in a future version. To read from a literal string, wrap it in a 'StringIO' object.\n",
      "  dataframe = pd.read_html(list.prettify())[0]\n"
     ]
    },
    {
     "data": {
      "text/html": [
       "<table border=\"1\" class=\"dataframe\">\n",
       "  <thead>\n",
       "    <tr style=\"text-align: right;\">\n",
       "      <th></th>\n",
       "      <th>song</th>\n",
       "      <th>artist</th>\n",
       "      <th>year</th>\n",
       "    </tr>\n",
       "  </thead>\n",
       "  <tbody>\n",
       "    <tr>\n",
       "      <th>0</th>\n",
       "      <td>Goodnight Irene</td>\n",
       "      <td>Gordon Jenkins</td>\n",
       "      <td>1950</td>\n",
       "    </tr>\n",
       "    <tr>\n",
       "      <th>1</th>\n",
       "      <td>Mona Lisa</td>\n",
       "      <td>Nat King Cole</td>\n",
       "      <td>1950</td>\n",
       "    </tr>\n",
       "    <tr>\n",
       "      <th>2</th>\n",
       "      <td>Third Man Theme</td>\n",
       "      <td>Anton Karas</td>\n",
       "      <td>1950</td>\n",
       "    </tr>\n",
       "    <tr>\n",
       "      <th>3</th>\n",
       "      <td>Sam's Song</td>\n",
       "      <td>Gary</td>\n",
       "      <td>1950</td>\n",
       "    </tr>\n",
       "    <tr>\n",
       "      <th>4</th>\n",
       "      <td>Play a Simple Melody</td>\n",
       "      <td>Gary</td>\n",
       "      <td>1950</td>\n",
       "    </tr>\n",
       "    <tr>\n",
       "      <th>5</th>\n",
       "      <td>Music, Music, Music</td>\n",
       "      <td>Teresa Brewer</td>\n",
       "      <td>1950</td>\n",
       "    </tr>\n",
       "    <tr>\n",
       "      <th>6</th>\n",
       "      <td>Third Man Theme</td>\n",
       "      <td>Guy Lombardo</td>\n",
       "      <td>1950</td>\n",
       "    </tr>\n",
       "    <tr>\n",
       "      <th>7</th>\n",
       "      <td>Chattanoogie Shoe Shine Boy</td>\n",
       "      <td>Red Foley</td>\n",
       "      <td>1950</td>\n",
       "    </tr>\n",
       "    <tr>\n",
       "      <th>8</th>\n",
       "      <td>Harbor Lights</td>\n",
       "      <td>Sammy Kaye</td>\n",
       "      <td>1950</td>\n",
       "    </tr>\n",
       "    <tr>\n",
       "      <th>9</th>\n",
       "      <td>It Isn't Fair</td>\n",
       "      <td>Sammy Kaye</td>\n",
       "      <td>1950</td>\n",
       "    </tr>\n",
       "    <tr>\n",
       "      <th>10</th>\n",
       "      <td>If I Knew You Were Coming I'd have Baked a Cake</td>\n",
       "      <td>Eileen Barton</td>\n",
       "      <td>1950</td>\n",
       "    </tr>\n",
       "    <tr>\n",
       "      <th>11</th>\n",
       "      <td>Bonaparte's Retreat</td>\n",
       "      <td>Kay Starr</td>\n",
       "      <td>1950</td>\n",
       "    </tr>\n",
       "    <tr>\n",
       "      <th>12</th>\n",
       "      <td>Tzena, Tzena, Tzena</td>\n",
       "      <td>Gordon Jenkins</td>\n",
       "      <td>1950</td>\n",
       "    </tr>\n",
       "    <tr>\n",
       "      <th>13</th>\n",
       "      <td>There's No Tomorrow</td>\n",
       "      <td>Tony Martin</td>\n",
       "      <td>1950</td>\n",
       "    </tr>\n",
       "    <tr>\n",
       "      <th>14</th>\n",
       "      <td>The Thing</td>\n",
       "      <td>Phil Harris</td>\n",
       "      <td>1950</td>\n",
       "    </tr>\n",
       "    <tr>\n",
       "      <th>15</th>\n",
       "      <td>Sentimental Me</td>\n",
       "      <td>Ames Brothers</td>\n",
       "      <td>1950</td>\n",
       "    </tr>\n",
       "    <tr>\n",
       "      <th>16</th>\n",
       "      <td>I Wanna Be Loved</td>\n",
       "      <td>Andrews Sisters</td>\n",
       "      <td>1950</td>\n",
       "    </tr>\n",
       "    <tr>\n",
       "      <th>17</th>\n",
       "      <td>Tennessee Waltz</td>\n",
       "      <td>Patti Page</td>\n",
       "      <td>1950</td>\n",
       "    </tr>\n",
       "    <tr>\n",
       "      <th>18</th>\n",
       "      <td>I Can Dream, Can't I</td>\n",
       "      <td>Andrews Sisters</td>\n",
       "      <td>1950</td>\n",
       "    </tr>\n",
       "    <tr>\n",
       "      <th>19</th>\n",
       "      <td>I'll Never Be Free</td>\n",
       "      <td>Kay Starr</td>\n",
       "      <td>1950</td>\n",
       "    </tr>\n",
       "    <tr>\n",
       "      <th>20</th>\n",
       "      <td>All My Love</td>\n",
       "      <td>Patti Page</td>\n",
       "      <td>1950</td>\n",
       "    </tr>\n",
       "    <tr>\n",
       "      <th>21</th>\n",
       "      <td>My Foolish Heart</td>\n",
       "      <td>Gordon Jenkins</td>\n",
       "      <td>1950</td>\n",
       "    </tr>\n",
       "    <tr>\n",
       "      <th>22</th>\n",
       "      <td>Rag Mop</td>\n",
       "      <td>Ames Brothers</td>\n",
       "      <td>1950</td>\n",
       "    </tr>\n",
       "    <tr>\n",
       "      <th>23</th>\n",
       "      <td>Bewitched</td>\n",
       "      <td>Doris Day</td>\n",
       "      <td>1950</td>\n",
       "    </tr>\n",
       "    <tr>\n",
       "      <th>24</th>\n",
       "      <td>Hoop-Dee-Doo</td>\n",
       "      <td>Perry Como</td>\n",
       "      <td>1950</td>\n",
       "    </tr>\n",
       "    <tr>\n",
       "      <th>25</th>\n",
       "      <td>Bewitched</td>\n",
       "      <td>Gordon Jenkins</td>\n",
       "      <td>1950</td>\n",
       "    </tr>\n",
       "    <tr>\n",
       "      <th>26</th>\n",
       "      <td>Can Anyone Explain?</td>\n",
       "      <td>Ames Brothers</td>\n",
       "      <td>1950</td>\n",
       "    </tr>\n",
       "    <tr>\n",
       "      <th>27</th>\n",
       "      <td>My Foolish Heart</td>\n",
       "      <td>Billy Eckstine</td>\n",
       "      <td>1950</td>\n",
       "    </tr>\n",
       "    <tr>\n",
       "      <th>28</th>\n",
       "      <td>Dear Hearts and Gentle People</td>\n",
       "      <td>Bing Crosby</td>\n",
       "      <td>1950</td>\n",
       "    </tr>\n",
       "    <tr>\n",
       "      <th>29</th>\n",
       "      <td>The Cry of the Wild Goose</td>\n",
       "      <td>Frankie Laine</td>\n",
       "      <td>1950</td>\n",
       "    </tr>\n",
       "  </tbody>\n",
       "</table>"
      ],
      "text/plain": [
       "<IPython.core.display.HTML object>"
      ]
     },
     "metadata": {},
     "output_type": "display_data"
    }
   ],
   "source": [
    "# scraping top 100 lists prior to 1958\n",
    "\n",
    "wikipedia_link = \"https://en.wikipedia.org\"\n",
    "wikipedia_billboard_years_link = f\"{wikipedia_link}/wiki/Template:Hot_100_year-end_charts\"\n",
    "\n",
    "wikipedia_billboard_years_html = requests.get(wikipedia_billboard_years_link)\n",
    "billboard_years_html_soup = BeautifulSoup(wikipedia_billboard_years_html.content, 'html.parser')\n",
    "year_link_tags = billboard_years_html_soup.select(\"tbody td a\")\n",
    "\n",
    "links_by_year = {int(tag.text): tag.attrs[\"href\"] for tag in year_link_tags}\n",
    "# pprint(links_by_year)\n",
    "\n",
    "\n",
    "def full_wikipedia_link(short_wikipedia_link):\n",
    "    return f'{wikipedia_link}{short_wikipedia_link}'\n",
    "\n",
    "\n",
    "def sanitize_wikipedia_table(table:pd.DataFrame):\n",
    "    table[\"Artist(s)\"] = table[\"Artist(s)\"].str.replace(\"(with |[&,]).*$\", \"\", regex=True)\n",
    "    table[\"Title\"] = table[\"Title\"].str.strip(\"\\\" \")\n",
    "    \n",
    "    # TODO ?? sanitize rank\n",
    "    \n",
    "\n",
    "def scrap_year(year:int):\n",
    "    list_link = full_wikipedia_link(links_by_year[year])\n",
    "    print(f\"following {list_link = }\")\n",
    "    response = requests.get(list_link)\n",
    "    soup = BeautifulSoup(response.content, 'html.parser')\n",
    "\n",
    "    list = soup.select(\"table.wikitable.sortable\")[0]\n",
    "    # print(list)\n",
    "    dataframe = pd.read_html(list.prettify())[0]\n",
    "    dataframe[\"year\"] = year\n",
    "    \n",
    "    sanitize_wikipedia_table(dataframe)\n",
    "    \n",
    "    # dataframe.rename(columns={\"No.\": \"rank\", \"No. (Rank)\": \"rank\"}, inplace=True)\n",
    "    dataframe.rename(columns={\"Title\": \"song\", \"Artist(s)\": \"artist\"}, inplace=True)\n",
    "    dataframe.drop(columns=[\"No.\", \"No. (Rank)\"], errors=\"ignore\", inplace=True)\n",
    "    \n",
    "    return dataframe\n",
    "\n",
    "\n",
    "year = 1950\n",
    "print_dataframe(scrap_year(year))"
   ]
  },
  {
   "cell_type": "code",
   "execution_count": 506,
   "metadata": {},
   "outputs": [],
   "source": [
    "# sanitizing wikipedia-extracted data\n",
    "\n",
    "# temp = scrap_year(1950)\n",
    "# print_dataframe(temp)\n",
    "# sanitize_wikipedia_table(temp)\n",
    "# print_dataframe(temp)"
   ]
  },
  {
   "cell_type": "code",
   "execution_count": 507,
   "metadata": {},
   "outputs": [],
   "source": [
    "# %timeit temp[\"Artist(s)\"].apply(lambda artist: re.split(\"with|&|,\", artist)[0]),\n",
    "# %timeit temp[\"Artist(s)\"].str.extract(\"^(.*?)(?= with|[&,]|$)\"), \n",
    "# %timeit temp[\"Artist(s)\"].str.replace(\"(with |[&,]).*$\", \"\", regex=True),\n",
    "# %timeit temp[\"Artist(s)\"].str.replace(\"(with.*$|[&,].*$)\", \"\", regex=True),\n",
    "# %timeit temp[\"Artist(s)\"].str.replace(\"(with.*$|&.*$|,.*$)\", \"\", regex=True),\n",
    "# %timeit temp[\"Artist(s)\"].str.replace(\"(with.*|&.*|,.*)\", \"\", regex=True),\n",
    "\n",
    "# print_dataframe(pd.concat([\n",
    "#             temp[\"Artist(s)\"].apply(lambda artist: re.split(\"with|&|,\", artist)[0]),\n",
    "#             temp[\"Artist(s)\"].str.extract(\"^(.*?)(?= with|[&,]|$)\"), \n",
    "#             temp[\"Artist(s)\"].str.replace(\"(with |[&,]).*$\", \"\", regex=True),\n",
    "#             temp[\"Artist(s)\"].str.replace(\"(with.*$|[&,].*$)\", \"\", regex=True),\n",
    "#             temp[\"Artist(s)\"].str.replace(\"(with.*$|&.*$|,.*$)\", \"\", regex=True),\n",
    "#             temp[\"Artist(s)\"].str.replace(\"(with.*|&.*|,.*)\", \"\", regex=True),\n",
    "#         ],\n",
    "#         axis=1\n",
    "#     ))"
   ]
  },
  {
   "cell_type": "code",
   "execution_count": 508,
   "metadata": {},
   "outputs": [],
   "source": [
    "# sanitize_lyrics(download_lyrics(title=\"The Cry of the Wild Goose\", artist=\"Frankie Laine with Carl T. Fischer\"))\n",
    "# print(sanitize_lyrics(download_lyrics(title=\" I Can Dream, Can't I\", artist=\"Andrews Sisters\")))"
   ]
  },
  {
   "cell_type": "code",
   "execution_count": 509,
   "metadata": {},
   "outputs": [
    {
     "name": "stdout",
     "output_type": "stream",
     "text": [
      "date\n",
      "1958   1958-12-29\n",
      "1959   1959-12-28\n",
      "1960   1960-12-26\n",
      "1961   1961-12-25\n",
      "1962   1962-12-29\n",
      "          ...    \n",
      "2016   2016-12-31\n",
      "2017   2017-12-30\n",
      "2018   2018-12-29\n",
      "2019   2019-12-28\n",
      "2020   2020-12-26\n",
      "Name: date, Length: 63, dtype: datetime64[ns]\n"
     ]
    },
    {
     "data": {
      "text/html": [
       "<div>\n",
       "<style scoped>\n",
       "    .dataframe tbody tr th:only-of-type {\n",
       "        vertical-align: middle;\n",
       "    }\n",
       "\n",
       "    .dataframe tbody tr th {\n",
       "        vertical-align: top;\n",
       "    }\n",
       "\n",
       "    .dataframe thead th {\n",
       "        text-align: right;\n",
       "    }\n",
       "</style>\n",
       "<table border=\"1\" class=\"dataframe\">\n",
       "  <thead>\n",
       "    <tr style=\"text-align: right;\">\n",
       "      <th></th>\n",
       "      <th>year</th>\n",
       "      <th>song</th>\n",
       "      <th>artist</th>\n",
       "    </tr>\n",
       "  </thead>\n",
       "  <tbody>\n",
       "    <tr>\n",
       "      <th>0</th>\n",
       "      <td>1958</td>\n",
       "      <td>The Chipmunk Song</td>\n",
       "      <td>The Chipmunks With David Seville</td>\n",
       "    </tr>\n",
       "    <tr>\n",
       "      <th>1</th>\n",
       "      <td>1958</td>\n",
       "      <td>Smoke Gets In Your Eyes</td>\n",
       "      <td>The Platters</td>\n",
       "    </tr>\n",
       "    <tr>\n",
       "      <th>2</th>\n",
       "      <td>1958</td>\n",
       "      <td>To Know Him, Is To Love Him</td>\n",
       "      <td>The Teddy Bears</td>\n",
       "    </tr>\n",
       "    <tr>\n",
       "      <th>3</th>\n",
       "      <td>1958</td>\n",
       "      <td>One Night</td>\n",
       "      <td>Elvis Presley</td>\n",
       "    </tr>\n",
       "    <tr>\n",
       "      <th>4</th>\n",
       "      <td>1958</td>\n",
       "      <td>Problems</td>\n",
       "      <td>The Everly Brothers</td>\n",
       "    </tr>\n",
       "    <tr>\n",
       "      <th>...</th>\n",
       "      <td>...</td>\n",
       "      <td>...</td>\n",
       "      <td>...</td>\n",
       "    </tr>\n",
       "    <tr>\n",
       "      <th>6294</th>\n",
       "      <td>2020</td>\n",
       "      <td>Good Time</td>\n",
       "      <td>Niko Moon</td>\n",
       "    </tr>\n",
       "    <tr>\n",
       "      <th>6295</th>\n",
       "      <td>2020</td>\n",
       "      <td>Throat Baby (Go Baby)</td>\n",
       "      <td>BRS Kash</td>\n",
       "    </tr>\n",
       "    <tr>\n",
       "      <th>6296</th>\n",
       "      <td>2020</td>\n",
       "      <td>Errbody</td>\n",
       "      <td>Lil Baby</td>\n",
       "    </tr>\n",
       "    <tr>\n",
       "      <th>6297</th>\n",
       "      <td>2020</td>\n",
       "      <td>Favorite Time Of Year</td>\n",
       "      <td>Carrie Underwood</td>\n",
       "    </tr>\n",
       "    <tr>\n",
       "      <th>6298</th>\n",
       "      <td>2020</td>\n",
       "      <td>Beautiful Trip</td>\n",
       "      <td>Kid Cudi</td>\n",
       "    </tr>\n",
       "  </tbody>\n",
       "</table>\n",
       "<p>6299 rows × 3 columns</p>\n",
       "</div>"
      ],
      "text/plain": [
       "      year                         song                            artist\n",
       "0     1958            The Chipmunk Song  The Chipmunks With David Seville\n",
       "1     1958      Smoke Gets In Your Eyes                      The Platters\n",
       "2     1958  To Know Him, Is To Love Him                   The Teddy Bears\n",
       "3     1958                    One Night                     Elvis Presley\n",
       "4     1958                     Problems               The Everly Brothers\n",
       "...    ...                          ...                               ...\n",
       "6294  2020                    Good Time                         Niko Moon\n",
       "6295  2020        Throat Baby (Go Baby)                          BRS Kash\n",
       "6296  2020                      Errbody                          Lil Baby\n",
       "6297  2020        Favorite Time Of Year                  Carrie Underwood\n",
       "6298  2020               Beautiful Trip                          Kid Cudi\n",
       "\n",
       "[6299 rows x 3 columns]"
      ]
     },
     "execution_count": 509,
     "metadata": {},
     "output_type": "execute_result"
    }
   ],
   "source": [
    "# getting only year-ends' top 100 from downloaded dataset\n",
    "\n",
    "charts_indexed_by_date = charts.set_index(\"date\")\n",
    "dates_series = charts[\"date\"]\n",
    "\n",
    "year_ends = dates_series.groupby(charts_indexed_by_date.index.year).first()\n",
    "year_ends = year_ends[year_ends.index <= 2020]\n",
    "\n",
    "# print(charts_index_by_date.index)\n",
    "print(year_ends)\n",
    "\n",
    "year_end_charts = charts_indexed_by_date.loc[year_ends]\n",
    "year_end_charts.index = year_end_charts.index.year\n",
    "year_end_charts.index.names = [\"year\"]\n",
    "year_end_charts.reset_index(inplace=True)\n",
    "year_end_charts"
   ]
  },
  {
   "cell_type": "code",
   "execution_count": 510,
   "metadata": {},
   "outputs": [
    {
     "name": "stdout",
     "output_type": "stream",
     "text": [
      "following list_link = 'https://en.wikipedia.org/wiki/Billboard_year-end_top_singles_of_1946'\n"
     ]
    },
    {
     "name": "stderr",
     "output_type": "stream",
     "text": [
      "C:\\Users\\SB\\AppData\\Local\\Temp\\ipykernel_14596\\2869940313.py:33: FutureWarning: Passing literal html to 'read_html' is deprecated and will be removed in a future version. To read from a literal string, wrap it in a 'StringIO' object.\n",
      "  dataframe = pd.read_html(list.prettify())[0]\n"
     ]
    },
    {
     "name": "stdout",
     "output_type": "stream",
     "text": [
      "following list_link = 'https://en.wikipedia.org/wiki/Billboard_year-end_top_singles_of_1947'\n"
     ]
    },
    {
     "name": "stderr",
     "output_type": "stream",
     "text": [
      "C:\\Users\\SB\\AppData\\Local\\Temp\\ipykernel_14596\\2869940313.py:33: FutureWarning: Passing literal html to 'read_html' is deprecated and will be removed in a future version. To read from a literal string, wrap it in a 'StringIO' object.\n",
      "  dataframe = pd.read_html(list.prettify())[0]\n"
     ]
    },
    {
     "name": "stdout",
     "output_type": "stream",
     "text": [
      "following list_link = 'https://en.wikipedia.org/wiki/Billboard_year-end_top_singles_of_1948'\n"
     ]
    },
    {
     "name": "stderr",
     "output_type": "stream",
     "text": [
      "C:\\Users\\SB\\AppData\\Local\\Temp\\ipykernel_14596\\2869940313.py:33: FutureWarning: Passing literal html to 'read_html' is deprecated and will be removed in a future version. To read from a literal string, wrap it in a 'StringIO' object.\n",
      "  dataframe = pd.read_html(list.prettify())[0]\n"
     ]
    },
    {
     "name": "stdout",
     "output_type": "stream",
     "text": [
      "following list_link = 'https://en.wikipedia.org/wiki/Billboard_year-end_top_30_singles_of_1949'\n"
     ]
    },
    {
     "name": "stderr",
     "output_type": "stream",
     "text": [
      "C:\\Users\\SB\\AppData\\Local\\Temp\\ipykernel_14596\\2869940313.py:33: FutureWarning: Passing literal html to 'read_html' is deprecated and will be removed in a future version. To read from a literal string, wrap it in a 'StringIO' object.\n",
      "  dataframe = pd.read_html(list.prettify())[0]\n"
     ]
    },
    {
     "name": "stdout",
     "output_type": "stream",
     "text": [
      "following list_link = 'https://en.wikipedia.org/wiki/Billboard_year-end_top_30_singles_of_1950'\n"
     ]
    },
    {
     "name": "stderr",
     "output_type": "stream",
     "text": [
      "C:\\Users\\SB\\AppData\\Local\\Temp\\ipykernel_14596\\2869940313.py:33: FutureWarning: Passing literal html to 'read_html' is deprecated and will be removed in a future version. To read from a literal string, wrap it in a 'StringIO' object.\n",
      "  dataframe = pd.read_html(list.prettify())[0]\n"
     ]
    },
    {
     "name": "stdout",
     "output_type": "stream",
     "text": [
      "following list_link = 'https://en.wikipedia.org/wiki/Billboard_year-end_top_30_singles_of_1951'\n"
     ]
    },
    {
     "name": "stderr",
     "output_type": "stream",
     "text": [
      "C:\\Users\\SB\\AppData\\Local\\Temp\\ipykernel_14596\\2869940313.py:33: FutureWarning: Passing literal html to 'read_html' is deprecated and will be removed in a future version. To read from a literal string, wrap it in a 'StringIO' object.\n",
      "  dataframe = pd.read_html(list.prettify())[0]\n"
     ]
    },
    {
     "name": "stdout",
     "output_type": "stream",
     "text": [
      "following list_link = 'https://en.wikipedia.org/wiki/Billboard_year-end_top_30_singles_of_1952'\n"
     ]
    },
    {
     "name": "stderr",
     "output_type": "stream",
     "text": [
      "C:\\Users\\SB\\AppData\\Local\\Temp\\ipykernel_14596\\2869940313.py:33: FutureWarning: Passing literal html to 'read_html' is deprecated and will be removed in a future version. To read from a literal string, wrap it in a 'StringIO' object.\n",
      "  dataframe = pd.read_html(list.prettify())[0]\n"
     ]
    },
    {
     "name": "stdout",
     "output_type": "stream",
     "text": [
      "following list_link = 'https://en.wikipedia.org/wiki/Billboard_year-end_top_30_singles_of_1953'\n"
     ]
    },
    {
     "name": "stderr",
     "output_type": "stream",
     "text": [
      "C:\\Users\\SB\\AppData\\Local\\Temp\\ipykernel_14596\\2869940313.py:33: FutureWarning: Passing literal html to 'read_html' is deprecated and will be removed in a future version. To read from a literal string, wrap it in a 'StringIO' object.\n",
      "  dataframe = pd.read_html(list.prettify())[0]\n"
     ]
    },
    {
     "name": "stdout",
     "output_type": "stream",
     "text": [
      "following list_link = 'https://en.wikipedia.org/wiki/Billboard_year-end_top_30_singles_of_1954'\n"
     ]
    },
    {
     "name": "stderr",
     "output_type": "stream",
     "text": [
      "C:\\Users\\SB\\AppData\\Local\\Temp\\ipykernel_14596\\2869940313.py:33: FutureWarning: Passing literal html to 'read_html' is deprecated and will be removed in a future version. To read from a literal string, wrap it in a 'StringIO' object.\n",
      "  dataframe = pd.read_html(list.prettify())[0]\n"
     ]
    },
    {
     "name": "stdout",
     "output_type": "stream",
     "text": [
      "following list_link = 'https://en.wikipedia.org/wiki/Billboard_year-end_top_30_singles_of_1955'\n"
     ]
    },
    {
     "name": "stderr",
     "output_type": "stream",
     "text": [
      "C:\\Users\\SB\\AppData\\Local\\Temp\\ipykernel_14596\\2869940313.py:33: FutureWarning: Passing literal html to 'read_html' is deprecated and will be removed in a future version. To read from a literal string, wrap it in a 'StringIO' object.\n",
      "  dataframe = pd.read_html(list.prettify())[0]\n"
     ]
    },
    {
     "name": "stdout",
     "output_type": "stream",
     "text": [
      "following list_link = 'https://en.wikipedia.org/wiki/Billboard_year-end_top_50_singles_of_1956'\n"
     ]
    },
    {
     "name": "stderr",
     "output_type": "stream",
     "text": [
      "C:\\Users\\SB\\AppData\\Local\\Temp\\ipykernel_14596\\2869940313.py:33: FutureWarning: Passing literal html to 'read_html' is deprecated and will be removed in a future version. To read from a literal string, wrap it in a 'StringIO' object.\n",
      "  dataframe = pd.read_html(list.prettify())[0]\n"
     ]
    },
    {
     "name": "stdout",
     "output_type": "stream",
     "text": [
      "following list_link = 'https://en.wikipedia.org/wiki/Billboard_year-end_top_50_singles_of_1957'\n"
     ]
    },
    {
     "name": "stderr",
     "output_type": "stream",
     "text": [
      "C:\\Users\\SB\\AppData\\Local\\Temp\\ipykernel_14596\\2869940313.py:33: FutureWarning: Passing literal html to 'read_html' is deprecated and will be removed in a future version. To read from a literal string, wrap it in a 'StringIO' object.\n",
      "  dataframe = pd.read_html(list.prettify())[0]\n"
     ]
    },
    {
     "data": {
      "text/html": [
       "<div>\n",
       "<style scoped>\n",
       "    .dataframe tbody tr th:only-of-type {\n",
       "        vertical-align: middle;\n",
       "    }\n",
       "\n",
       "    .dataframe tbody tr th {\n",
       "        vertical-align: top;\n",
       "    }\n",
       "\n",
       "    .dataframe thead th {\n",
       "        text-align: right;\n",
       "    }\n",
       "</style>\n",
       "<table border=\"1\" class=\"dataframe\">\n",
       "  <thead>\n",
       "    <tr style=\"text-align: right;\">\n",
       "      <th></th>\n",
       "      <th>song</th>\n",
       "      <th>artist</th>\n",
       "      <th>year</th>\n",
       "    </tr>\n",
       "  </thead>\n",
       "  <tbody>\n",
       "    <tr>\n",
       "      <th>0</th>\n",
       "      <td>Prisoner of Love</td>\n",
       "      <td>Perry Como</td>\n",
       "      <td>1946</td>\n",
       "    </tr>\n",
       "    <tr>\n",
       "      <th>1</th>\n",
       "      <td>To Each His Own</td>\n",
       "      <td>Eddy Howard</td>\n",
       "      <td>1946</td>\n",
       "    </tr>\n",
       "    <tr>\n",
       "      <th>2</th>\n",
       "      <td>The Gypsy</td>\n",
       "      <td>The Ink Spots</td>\n",
       "      <td>1946</td>\n",
       "    </tr>\n",
       "    <tr>\n",
       "      <th>3</th>\n",
       "      <td>Five Minutes More</td>\n",
       "      <td>Frank Sinatra</td>\n",
       "      <td>1946</td>\n",
       "    </tr>\n",
       "    <tr>\n",
       "      <th>4</th>\n",
       "      <td>Rumors Are Flying</td>\n",
       "      <td>Frankie Carle</td>\n",
       "      <td>1946</td>\n",
       "    </tr>\n",
       "    <tr>\n",
       "      <th>...</th>\n",
       "      <td>...</td>\n",
       "      <td>...</td>\n",
       "      <td>...</td>\n",
       "    </tr>\n",
       "    <tr>\n",
       "      <th>45</th>\n",
       "      <td>Old Cape Cod</td>\n",
       "      <td>Patti Page</td>\n",
       "      <td>1957</td>\n",
       "    </tr>\n",
       "    <tr>\n",
       "      <th>46</th>\n",
       "      <td>Mr. Lee</td>\n",
       "      <td>The Bobbettes</td>\n",
       "      <td>1957</td>\n",
       "    </tr>\n",
       "    <tr>\n",
       "      <th>47</th>\n",
       "      <td>Blueberry Hill</td>\n",
       "      <td>Fats Domino</td>\n",
       "      <td>1957</td>\n",
       "    </tr>\n",
       "    <tr>\n",
       "      <th>48</th>\n",
       "      <td>Whispering Bells</td>\n",
       "      <td>The Del-Vikings</td>\n",
       "      <td>1957</td>\n",
       "    </tr>\n",
       "    <tr>\n",
       "      <th>49</th>\n",
       "      <td>Blue Monday</td>\n",
       "      <td>Fats Domino</td>\n",
       "      <td>1957</td>\n",
       "    </tr>\n",
       "  </tbody>\n",
       "</table>\n",
       "<p>437 rows × 3 columns</p>\n",
       "</div>"
      ],
      "text/plain": [
       "                 song           artist  year\n",
       "0    Prisoner of Love       Perry Como  1946\n",
       "1     To Each His Own      Eddy Howard  1946\n",
       "2           The Gypsy    The Ink Spots  1946\n",
       "3   Five Minutes More    Frank Sinatra  1946\n",
       "4   Rumors Are Flying    Frankie Carle  1946\n",
       "..                ...              ...   ...\n",
       "45       Old Cape Cod       Patti Page  1957\n",
       "46            Mr. Lee    The Bobbettes  1957\n",
       "47     Blueberry Hill      Fats Domino  1957\n",
       "48   Whispering Bells  The Del-Vikings  1957\n",
       "49        Blue Monday      Fats Domino  1957\n",
       "\n",
       "[437 rows x 3 columns]"
      ]
     },
     "execution_count": 510,
     "metadata": {},
     "output_type": "execute_result"
    }
   ],
   "source": [
    "billboard_missing_years = range(min(links_by_year.keys()), year_ends.index.min())\n",
    "missing_years_dataframes = [scrap_year(year) for year in billboard_missing_years]\n",
    "missing_years_concatenated = pd.concat(missing_years_dataframes)\n",
    "missing_years_concatenated"
   ]
  },
  {
   "cell_type": "code",
   "execution_count": 511,
   "metadata": {},
   "outputs": [
    {
     "data": {
      "text/html": [
       "<div>\n",
       "<style scoped>\n",
       "    .dataframe tbody tr th:only-of-type {\n",
       "        vertical-align: middle;\n",
       "    }\n",
       "\n",
       "    .dataframe tbody tr th {\n",
       "        vertical-align: top;\n",
       "    }\n",
       "\n",
       "    .dataframe thead th {\n",
       "        text-align: right;\n",
       "    }\n",
       "</style>\n",
       "<table border=\"1\" class=\"dataframe\">\n",
       "  <thead>\n",
       "    <tr style=\"text-align: right;\">\n",
       "      <th></th>\n",
       "      <th>song</th>\n",
       "      <th>artist</th>\n",
       "      <th>year</th>\n",
       "    </tr>\n",
       "  </thead>\n",
       "  <tbody>\n",
       "    <tr>\n",
       "      <th>0</th>\n",
       "      <td>Prisoner of Love</td>\n",
       "      <td>Perry Como</td>\n",
       "      <td>1946</td>\n",
       "    </tr>\n",
       "    <tr>\n",
       "      <th>1</th>\n",
       "      <td>To Each His Own</td>\n",
       "      <td>Eddy Howard</td>\n",
       "      <td>1946</td>\n",
       "    </tr>\n",
       "    <tr>\n",
       "      <th>2</th>\n",
       "      <td>The Gypsy</td>\n",
       "      <td>The Ink Spots</td>\n",
       "      <td>1946</td>\n",
       "    </tr>\n",
       "    <tr>\n",
       "      <th>3</th>\n",
       "      <td>Five Minutes More</td>\n",
       "      <td>Frank Sinatra</td>\n",
       "      <td>1946</td>\n",
       "    </tr>\n",
       "    <tr>\n",
       "      <th>4</th>\n",
       "      <td>Rumors Are Flying</td>\n",
       "      <td>Frankie Carle</td>\n",
       "      <td>1946</td>\n",
       "    </tr>\n",
       "    <tr>\n",
       "      <th>...</th>\n",
       "      <td>...</td>\n",
       "      <td>...</td>\n",
       "      <td>...</td>\n",
       "    </tr>\n",
       "    <tr>\n",
       "      <th>6294</th>\n",
       "      <td>Good Time</td>\n",
       "      <td>Niko Moon</td>\n",
       "      <td>2020</td>\n",
       "    </tr>\n",
       "    <tr>\n",
       "      <th>6295</th>\n",
       "      <td>Throat Baby (Go Baby)</td>\n",
       "      <td>BRS Kash</td>\n",
       "      <td>2020</td>\n",
       "    </tr>\n",
       "    <tr>\n",
       "      <th>6296</th>\n",
       "      <td>Errbody</td>\n",
       "      <td>Lil Baby</td>\n",
       "      <td>2020</td>\n",
       "    </tr>\n",
       "    <tr>\n",
       "      <th>6297</th>\n",
       "      <td>Favorite Time Of Year</td>\n",
       "      <td>Carrie Underwood</td>\n",
       "      <td>2020</td>\n",
       "    </tr>\n",
       "    <tr>\n",
       "      <th>6298</th>\n",
       "      <td>Beautiful Trip</td>\n",
       "      <td>Kid Cudi</td>\n",
       "      <td>2020</td>\n",
       "    </tr>\n",
       "  </tbody>\n",
       "</table>\n",
       "<p>6736 rows × 3 columns</p>\n",
       "</div>"
      ],
      "text/plain": [
       "                       song            artist  year\n",
       "0          Prisoner of Love        Perry Como  1946\n",
       "1           To Each His Own       Eddy Howard  1946\n",
       "2                 The Gypsy     The Ink Spots  1946\n",
       "3         Five Minutes More     Frank Sinatra  1946\n",
       "4         Rumors Are Flying     Frankie Carle  1946\n",
       "...                     ...               ...   ...\n",
       "6294              Good Time         Niko Moon  2020\n",
       "6295  Throat Baby (Go Baby)          BRS Kash  2020\n",
       "6296                Errbody          Lil Baby  2020\n",
       "6297  Favorite Time Of Year  Carrie Underwood  2020\n",
       "6298         Beautiful Trip          Kid Cudi  2020\n",
       "\n",
       "[6736 rows x 3 columns]"
      ]
     },
     "execution_count": 511,
     "metadata": {},
     "output_type": "execute_result"
    }
   ],
   "source": [
    "entirety_of_data = pd.concat([missing_years_concatenated, year_end_charts])\n",
    "entirety_of_data"
   ]
  }
 ],
 "metadata": {
  "kernelspec": {
   "display_name": "Python 3",
   "language": "python",
   "name": "python3"
  },
  "language_info": {
   "codemirror_mode": {
    "name": "ipython",
    "version": 3
   },
   "file_extension": ".py",
   "mimetype": "text/x-python",
   "name": "python",
   "nbconvert_exporter": "python",
   "pygments_lexer": "ipython3",
   "version": "3.10.7"
  }
 },
 "nbformat": 4,
 "nbformat_minor": 2
}
